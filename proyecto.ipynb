{
 "cells": [
  {
   "cell_type": "code",
   "execution_count": null,
   "id": "c3a1435d",
   "metadata": {},
   "outputs": [
    {
     "name": "stdout",
     "output_type": "stream",
     "text": [
      "  |   |  \n",
      "---------\n",
      "  |   |  \n",
      "---------\n",
      "  |   |  \n",
      "---------\n",
      "Turno de X\n"
     ]
    }
   ],
   "source": [
    "def imprimir_tablero(tablero):\n",
    "    for fila in tablero:\n",
    "        print(\" | \".join(fila))\n",
    "        print(\"-\" * 9)\n",
    "\n",
    "def verificar_ganador(tablero, jugador):\n",
    "    # Verificar filas, columnas y diagonales\n",
    "    for fila in tablero:\n",
    "        if all(celda == jugador for celda in fila):\n",
    "            return True\n",
    "    for col in range(3):\n",
    "        if all(tablero[fila][col] == jugador for fila in range(3)):\n",
    "            return True\n",
    "    if all(tablero[i][i] == jugador for i in range(3)) or \\\n",
    "       all(tablero[i][2 - i] == jugador for i in range(3)):\n",
    "        return True\n",
    "    return False\n",
    "\n",
    "def tablero_lleno(tablero):\n",
    "    return all(celda in ['X', 'O'] for fila in tablero for celda in fila)\n",
    "\n",
    "def juego():\n",
    "    tablero = [[\" \" for _ in range(3)] for _ in range(3)]\n",
    "    jugador_actual = \"X\"\n",
    "\n",
    "    while True:\n",
    "        imprimir_tablero(tablero)\n",
    "        print(f\"Turno de {jugador_actual}\")\n",
    "        fila = int(input(\"Ingresa la fila (0, 1, 2): \"))\n",
    "        columna = int(input(\"Ingresa la columna (0, 1, 2): \"))\n",
    "\n",
    "        if tablero[fila][columna] != \" \":\n",
    "            print(\"Esa casilla ya está ocupada. Intenta de nuevo.\")\n",
    "            continue\n",
    "\n",
    "        tablero[fila][columna] = jugador_actual\n",
    "\n",
    "        if verificar_ganador(tablero, jugador_actual):\n",
    "            imprimir_tablero(tablero)\n",
    "            print(f\"¡Jugador {jugador_actual} gana!\")\n",
    "            break\n",
    "\n",
    "        if tablero_lleno(tablero):\n",
    "            imprimir_tablero(tablero)\n",
    "            print(\"¡Empate!\")\n",
    "            break\n",
    "\n",
    "        jugador_actual = \"O\" if jugador_actual == \"X\" else \"X\"\n",
    "\n",
    "juego()"
   ]
  }
 ],
 "metadata": {
  "kernelspec": {
   "display_name": "Python 3",
   "language": "python",
   "name": "python3"
  },
  "language_info": {
   "codemirror_mode": {
    "name": "ipython",
    "version": 3
   },
   "file_extension": ".py",
   "mimetype": "text/x-python",
   "name": "python",
   "nbconvert_exporter": "python",
   "pygments_lexer": "ipython3",
   "version": "3.13.2"
  }
 },
 "nbformat": 4,
 "nbformat_minor": 5
}
